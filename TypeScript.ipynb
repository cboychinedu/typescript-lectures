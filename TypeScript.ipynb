{
 "cells": [
  {
   "cell_type": "markdown",
   "id": "54863b1f-eefb-41db-90d0-c137adf06e57",
   "metadata": {},
   "source": [
    "<h3> Working With Strings </h3>"
   ]
  },
  {
   "cell_type": "code",
   "execution_count": 10,
   "id": "f618f3a0-a3d5-4c87-8e8a-5f2b7c3dca72",
   "metadata": {},
   "outputs": [
    {
     "name": "stdout",
     "output_type": "stream",
     "text": [
      "string\n"
     ]
    }
   ],
   "source": [
    "console.log(typeof name); "
   ]
  },
  {
   "cell_type": "code",
   "execution_count": 9,
   "id": "b3fe5d3f-64d3-45be-b56f-26e96121fb61",
   "metadata": {},
   "outputs": [
    {
     "name": "stdout",
     "output_type": "stream",
     "text": [
      "Mbonu Chinedum\n"
     ]
    }
   ],
   "source": [
    "// Declaring some variables \n",
    "let name:string = \"Mbonu Chinedum\"; \n",
    "const PI:number = 3.142; \n",
    "\n",
    "console.log(name) "
   ]
  },
  {
   "cell_type": "code",
   "execution_count": 11,
   "id": "fcf3eced-7814-4ff2-9959-b08eaa39d5ad",
   "metadata": {},
   "outputs": [
    {
     "data": {
      "text/plain": [
       "\u001b[33m3\u001b[39m"
      ]
     },
     "execution_count": 11,
     "metadata": {},
     "output_type": "execute_result"
    }
   ],
   "source": [
    "Math.round(3.214); "
   ]
  },
  {
   "cell_type": "code",
   "execution_count": 14,
   "id": "f8905d8e-e129-4e10-a202-55028fc0cc33",
   "metadata": {},
   "outputs": [
    {
     "name": "stdout",
     "output_type": "stream",
     "text": [
      "\u001b[33m3.142\u001b[39m\n"
     ]
    }
   ],
   "source": [
    "console.log(PI); "
   ]
  },
  {
   "cell_type": "code",
   "execution_count": 19,
   "id": "a2cf5387-6ecc-442d-9469-825362e9dc76",
   "metadata": {},
   "outputs": [
    {
     "data": {
      "text/plain": [
       "\u001b[32m\"Arrival\"\u001b[39m"
      ]
     },
     "execution_count": 19,
     "metadata": {},
     "output_type": "execute_result"
    }
   ],
   "source": [
    "let movieTitle:string = \"Amadeus\"; \n",
    "\n",
    "// changing the string \n",
    "movieTitle = \"Arrival\"; "
   ]
  },
  {
   "cell_type": "code",
   "execution_count": 21,
   "id": "5745f21e-fc1c-4215-8480-0b41e2d73ad6",
   "metadata": {},
   "outputs": [
    {
     "data": {
      "text/plain": [
       "\u001b[32m\"ARRIVAL\"\u001b[39m"
      ]
     },
     "execution_count": 21,
     "metadata": {},
     "output_type": "execute_result"
    }
   ],
   "source": [
    "movieTitle.toUpperCase(); "
   ]
  },
  {
   "cell_type": "markdown",
   "id": "30ddc1b0-a3d6-411f-8639-c3934119a860",
   "metadata": {},
   "source": [
    "<h3> Working With Numbers </h3>"
   ]
  },
  {
   "cell_type": "code",
   "execution_count": 22,
   "id": "987623ea-06b7-4d3b-b32a-f26f669dfc1b",
   "metadata": {},
   "outputs": [
    {
     "name": "stdout",
     "output_type": "stream",
     "text": [
      "\u001b[33m10\u001b[39m\n"
     ]
    }
   ],
   "source": [
    "// Declaring a number \n",
    "let numCatLives:number = 9; \n",
    "numCatLives +=1; \n",
    "\n",
    "console.log(numCatLives); "
   ]
  },
  {
   "cell_type": "markdown",
   "id": "8f5a189b-3f16-4fbc-92d5-6789046d8b23",
   "metadata": {},
   "source": [
    "<h3> Working With Booleans </h3>"
   ]
  },
  {
   "cell_type": "code",
   "execution_count": 23,
   "id": "42261d6f-4ed4-4d94-8258-080c44579497",
   "metadata": {},
   "outputs": [],
   "source": [
    "// Declaring the boolean \n",
    "let condition:boolean = false; \n",
    "const isTeacher:boolean = true; "
   ]
  },
  {
   "cell_type": "code",
   "execution_count": 24,
   "id": "6e12ddfd-886b-4c03-9b88-8e3a6066512a",
   "metadata": {},
   "outputs": [
    {
     "data": {
      "text/plain": [
       "\u001b[33mtrue\u001b[39m"
      ]
     },
     "execution_count": 24,
     "metadata": {},
     "output_type": "execute_result"
    }
   ],
   "source": [
    "isTeacher; "
   ]
  },
  {
   "cell_type": "code",
   "execution_count": 25,
   "id": "4cccaba4-d89d-4b10-acd3-ba30e2b970c4",
   "metadata": {},
   "outputs": [
    {
     "data": {
      "text/plain": [
       "\u001b[33mfalse\u001b[39m"
      ]
     },
     "execution_count": 25,
     "metadata": {},
     "output_type": "execute_result"
    }
   ],
   "source": [
    "condition"
   ]
  },
  {
   "cell_type": "markdown",
   "id": "732ebd1f-d032-4bcd-9d35-720c66374c38",
   "metadata": {},
   "source": [
    "<h3> Type Inferences </h3>"
   ]
  },
  {
   "cell_type": "code",
   "execution_count": 26,
   "id": "53e71c8e-c6c8-4b8c-884a-783d6c0d18fb",
   "metadata": {},
   "outputs": [],
   "source": [
    "let tvShow = \"Olive Kitterigde\"; "
   ]
  },
  {
   "cell_type": "code",
   "execution_count": 27,
   "id": "3ece8042-4ed2-4140-8363-b55572287784",
   "metadata": {},
   "outputs": [
    {
     "data": {
      "text/plain": [
       "\u001b[32m\"string\"\u001b[39m"
      ]
     },
     "execution_count": 27,
     "metadata": {},
     "output_type": "execute_result"
    }
   ],
   "source": [
    "typeof tvShow; "
   ]
  },
  {
   "cell_type": "code",
   "execution_count": 35,
   "id": "39af4ede-d846-4d1a-bf52-6364fae71c39",
   "metadata": {},
   "outputs": [
    {
     "data": {
      "text/plain": [
       "\u001b[33mtrue\u001b[39m"
      ]
     },
     "execution_count": 35,
     "metadata": {},
     "output_type": "execute_result"
    }
   ],
   "source": [
    "const movies = [\"Arrival\", \"The thing\", \"Aliens\", \"Amadeus\"]; \n",
    "\n",
    "let foundMovie: boolean; \n",
    "\n",
    "for (let movie of movies) {\n",
    "    if (movie === \"Amadeus\") {\n",
    "        foundMovie = true; \n",
    "    }\n",
    "} "
   ]
  },
  {
   "cell_type": "code",
   "execution_count": 36,
   "id": "ee7b768b-5a6c-49c2-9664-d80b228bba0b",
   "metadata": {},
   "outputs": [
    {
     "data": {
      "text/plain": [
       "\u001b[33mtrue\u001b[39m"
      ]
     },
     "execution_count": 36,
     "metadata": {},
     "output_type": "execute_result"
    }
   ],
   "source": [
    "foundMovie"
   ]
  },
  {
   "cell_type": "markdown",
   "id": "ff79de99-387f-453e-a164-35589c94417d",
   "metadata": {},
   "source": [
    "<h3> Functions Declarations </h3>"
   ]
  },
  {
   "cell_type": "code",
   "execution_count": 42,
   "id": "f4b37edc-9e72-4d74-a551-42daa98ec988",
   "metadata": {},
   "outputs": [],
   "source": [
    "// Creating the number function \n",
    "function square(num: number) {\n",
    "    return num * num; \n",
    "\n",
    "} \n",
    "\n",
    "// Creating a string function \n",
    "let greet:string = (person: string) => {\n",
    "    return `Hi there ${person}` \n",
    "\n",
    "}"
   ]
  },
  {
   "cell_type": "code",
   "execution_count": 43,
   "id": "f86a1df5-df2d-4e14-97c6-ed8699fcbf02",
   "metadata": {},
   "outputs": [
    {
     "data": {
      "text/plain": [
       "\u001b[32m\"Hi there Mike\"\u001b[39m"
      ]
     },
     "execution_count": 43,
     "metadata": {},
     "output_type": "execute_result"
    }
   ],
   "source": [
    "greet(\"Mike\"); "
   ]
  },
  {
   "cell_type": "code",
   "execution_count": 44,
   "id": "743528fa-0c89-4ce0-8ace-c91307a3bef8",
   "metadata": {},
   "outputs": [],
   "source": [
    "const doSomething = (person: string, age: number, isFunny: boolean) => {}; "
   ]
  },
  {
   "cell_type": "code",
   "execution_count": 46,
   "id": "175af814-3835-4f4f-9a82-9bfdf0cd155f",
   "metadata": {},
   "outputs": [],
   "source": [
    "const parameterArgument = (person: string = \"Stranger\", age:number = 25) => {\n",
    "    // Loggin the users value \n",
    "    console.log(`Hello ${person}`); \n",
    "}"
   ]
  },
  {
   "cell_type": "code",
   "execution_count": 48,
   "id": "9cc721a4-0ad1-4d91-9f01-69bd14bf8f68",
   "metadata": {},
   "outputs": [
    {
     "name": "stdout",
     "output_type": "stream",
     "text": [
      "Hello Stranger\n"
     ]
    }
   ],
   "source": [
    "// Calling the function \n",
    "parameterArgument() "
   ]
  },
  {
   "cell_type": "code",
   "execution_count": 49,
   "id": "42d578d6-cbc4-418a-8dd2-f9c4effd235c",
   "metadata": {},
   "outputs": [],
   "source": [
    "const squareIt = (number:number): number => {\n",
    "    return number * number; \n",
    "}"
   ]
  },
  {
   "cell_type": "code",
   "execution_count": 50,
   "id": "2a0e7d54-d82c-45cf-81fb-c978bdcc9227",
   "metadata": {},
   "outputs": [
    {
     "data": {
      "text/plain": [
       "\u001b[33m1600\u001b[39m"
      ]
     },
     "execution_count": 50,
     "metadata": {},
     "output_type": "execute_result"
    }
   ],
   "source": [
    "squareIt(40); "
   ]
  },
  {
   "cell_type": "code",
   "execution_count": 51,
   "id": "5e6cff40-dcb7-4b35-b2d8-f610e023c98d",
   "metadata": {},
   "outputs": [],
   "source": [
    "// Defining the add function \n",
    "const add = (x:number, y:number):number | string => {\n",
    "    return x + y; \n",
    "}"
   ]
  },
  {
   "cell_type": "code",
   "execution_count": 52,
   "id": "41ea30fa-dc89-4217-9583-164b63034ef0",
   "metadata": {},
   "outputs": [
    {
     "data": {
      "text/plain": [
       "\u001b[33m70\u001b[39m"
      ]
     },
     "execution_count": 52,
     "metadata": {},
     "output_type": "execute_result"
    }
   ],
   "source": [
    "add(30, 40); "
   ]
  },
  {
   "cell_type": "markdown",
   "id": "fb89e362-49fc-480a-aef9-71127e3152d2",
   "metadata": {},
   "source": [
    "<h3> Void Type </h3>\n",
    "\n",
    "<p> \n",
    "<li> \n",
    "The void is a return type for functions that don't return anything. It means just that \n",
    "this function is void of any data. <br> \n",
    "\n",
    "Typescript can infer this type fairly well but sometimes it may want you to annotate a \n",
    "function with a valid return explicitly. \n",
    "</li>\n",
    "</p>"
   ]
  },
  {
   "cell_type": "code",
   "execution_count": 53,
   "id": "224662f6-e978-4984-a6d3-b9cb6846bc58",
   "metadata": {},
   "outputs": [],
   "source": [
    "const add = ():void => {\n",
    "    console.log(\"Hello User\"); \n",
    "}"
   ]
  },
  {
   "cell_type": "code",
   "execution_count": 54,
   "id": "b1887a27-b4d6-4f1d-9461-62ee84d4ef96",
   "metadata": {},
   "outputs": [
    {
     "name": "stdout",
     "output_type": "stream",
     "text": [
      "Hello User\n"
     ]
    }
   ],
   "source": [
    "add() "
   ]
  },
  {
   "cell_type": "code",
   "execution_count": null,
   "id": "5b10640f-ce0e-459c-aaf7-5ffdb0db1cae",
   "metadata": {},
   "outputs": [],
   "source": []
  },
  {
   "cell_type": "markdown",
   "id": "e9382c7f-0a9d-4783-a7f8-ccc28be72288",
   "metadata": {},
   "source": [
    "<h3> Working With Objects </h3>"
   ]
  },
  {
   "cell_type": "code",
   "execution_count": 55,
   "id": "7dbf3830-bf47-4f60-921a-ec66abe19fcd",
   "metadata": {},
   "outputs": [],
   "source": [
    "const printName = (person: {first: string; lastName: string}) => {\n",
    "    // Displaying the data \n",
    "    console.log(`${person.first} ${person.lastName}`); \n",
    "    \n",
    "}"
   ]
  },
  {
   "cell_type": "code",
   "execution_count": 57,
   "id": "864f231a-e5a5-4794-a285-d41283aeb533",
   "metadata": {},
   "outputs": [
    {
     "name": "stdout",
     "output_type": "stream",
     "text": [
      "Thomas Jenkins\n"
     ]
    }
   ],
   "source": [
    "printName({first: \"Thomas\", lastName: \"Jenkins\"}); "
   ]
  },
  {
   "cell_type": "code",
   "execution_count": 58,
   "id": "50931877-5c3b-4310-af00-391b9498d9dd",
   "metadata": {},
   "outputs": [],
   "source": [
    "// Using function \n",
    "function randomCoordinate(): {x: number, y:number} {\n",
    "    // returng the values \n",
    "    return {x:Math.random(), y:Math.random()}\n",
    "}"
   ]
  },
  {
   "cell_type": "code",
   "execution_count": 59,
   "id": "87a5dfdf-61ea-4e22-b121-dfa5061b8ef0",
   "metadata": {},
   "outputs": [
    {
     "data": {
      "text/plain": [
       "{ x: \u001b[33m0.8626502275022413\u001b[39m, y: \u001b[33m0.6858952352516211\u001b[39m }"
      ]
     },
     "execution_count": 59,
     "metadata": {},
     "output_type": "execute_result"
    }
   ],
   "source": [
    "randomCoordinate(5, 6); "
   ]
  },
  {
   "cell_type": "markdown",
   "id": "b413f1d6-8078-4f64-8eb0-402165789c38",
   "metadata": {},
   "source": [
    "<h3> Type Alias </h3>"
   ]
  },
  {
   "cell_type": "code",
   "execution_count": 73,
   "id": "1da4c5ca-13b3-4449-a634-d4876cb9d26f",
   "metadata": {},
   "outputs": [],
   "source": [
    "type Point = {\n",
    "    x: number; \n",
    "    y: number; \n",
    "    z?: number; // Making z optional \n",
    "}; \n",
    "\n",
    "let coordinate: Point = {x: 34, y:2 }; "
   ]
  },
  {
   "cell_type": "code",
   "execution_count": 74,
   "id": "c3252a96-4184-4861-a334-b5e6a71bc062",
   "metadata": {},
   "outputs": [],
   "source": [
    "function doublePoint(point: Point): Point {\n",
    "    return {x: point.x * 2, y: point.y * 2 }; \n",
    "} "
   ]
  },
  {
   "cell_type": "code",
   "execution_count": 75,
   "id": "3c78a026-2b23-4a45-893b-d1a30572aff2",
   "metadata": {},
   "outputs": [],
   "source": [
    "type MyNum = number; \n",
    "let age: MyNum = 24345"
   ]
  },
  {
   "cell_type": "code",
   "execution_count": 76,
   "id": "e3c8225a-a67a-4c99-b369-0b5e99ca5735",
   "metadata": {},
   "outputs": [],
   "source": [
    "type Song = {\n",
    "    title: string; \n",
    "    artist: string; \n",
    "    numStreams: number; \n",
    "    credits: { producer: string, writer: string } \n",
    "}; "
   ]
  },
  {
   "cell_type": "code",
   "execution_count": 77,
   "id": "6eb25900-1fbd-462c-97aa-087502b63da8",
   "metadata": {},
   "outputs": [],
   "source": [
    "let calculatePayout = (song:Song): number => {\n",
    "    let result; \n",
    "    result = song.numStreams * 0.08321; \n",
    "\n",
    "    return result; \n",
    "}; \n",
    "\n",
    "\n",
    "const printSong = (song:Song) => {\n",
    "    console.log(`${song.title} - ${song.artist}`)\n",
    "}\n",
    "    \n",
    "\n",
    "const mySong: Song = {\n",
    "    title: \"Unchanined Melody\", \n",
    "    artist: \"Rightouse Brothers\", \n",
    "    numStreams: 1234567, \n",
    "    credits: {\n",
    "        producer: \"Phill Spector\", \n",
    "        writer: \"Alex North\", \n",
    "    }\n",
    "}"
   ]
  },
  {
   "cell_type": "code",
   "execution_count": 78,
   "id": "3f97cebe-f954-4687-a223-e22cc65f2b01",
   "metadata": {},
   "outputs": [
    {
     "name": "stdout",
     "output_type": "stream",
     "text": [
      "Unchanined Melody - Rightouse Brothers\n"
     ]
    }
   ],
   "source": [
    "printSong(mySong); "
   ]
  },
  {
   "cell_type": "code",
   "execution_count": 79,
   "id": "a16afcba-d6ac-430e-ad51-45ba0b7cc7a6",
   "metadata": {},
   "outputs": [
    {
     "data": {
      "text/plain": [
       "\u001b[33m102728.32007\u001b[39m"
      ]
     },
     "execution_count": 79,
     "metadata": {},
     "output_type": "execute_result"
    }
   ],
   "source": [
    "// Calculate payout \n",
    "calculatePayout(mySong); "
   ]
  },
  {
   "cell_type": "markdown",
   "id": "4ff0efcc-32cb-476f-b1bd-77e8fa4d84ec",
   "metadata": {},
   "source": [
    "<h3> The read only keyword in typescript. </h3>"
   ]
  },
  {
   "cell_type": "code",
   "execution_count": 80,
   "id": "3b7b11eb-9aff-4930-8dd5-5d48426b13bf",
   "metadata": {},
   "outputs": [],
   "source": [
    "type User = {\n",
    "    readonly id: number; \n",
    "    username: string; \n",
    "}\n",
    "\n",
    "\n",
    "// \n",
    "const user: User = {\n",
    "    id: 123456, \n",
    "    username: \"catgirl\", \n",
    "} "
   ]
  },
  {
   "cell_type": "code",
   "execution_count": 81,
   "id": "67c6f0aa-8067-4476-88b4-94031db1925e",
   "metadata": {},
   "outputs": [
    {
     "data": {
      "text/plain": [
       "\u001b[33m123456\u001b[39m"
      ]
     },
     "execution_count": 81,
     "metadata": {},
     "output_type": "execute_result"
    }
   ],
   "source": [
    "user.id"
   ]
  },
  {
   "cell_type": "code",
   "execution_count": null,
   "id": "3672249f-eca1-4eca-a4eb-8e30fdfe5da2",
   "metadata": {},
   "outputs": [],
   "source": []
  },
  {
   "cell_type": "markdown",
   "id": "2cd45c38-5361-4793-96de-9732b5cd8781",
   "metadata": {},
   "source": [
    "<h3> Intersection Types in Typescript </h3>"
   ]
  },
  {
   "cell_type": "code",
   "execution_count": 87,
   "id": "0946d1d8-dacc-47d5-90d9-ac769436da5b",
   "metadata": {},
   "outputs": [],
   "source": [
    "type Circle = {\n",
    "    radius: number; \n",
    "}\n",
    "\n",
    "type Colorful = {\n",
    "    color: string; \n",
    "}\n",
    "\n",
    "\n",
    "// Combing types \n",
    "type ColourfulCircle = Circle & Colorful; "
   ]
  },
  {
   "cell_type": "code",
   "execution_count": 85,
   "id": "4aaf439c-71af-4d0b-a6f4-7b45fee5dbb1",
   "metadata": {},
   "outputs": [],
   "source": [
    "const happyFace: ColofulCircle = {\n",
    "    radius: 25, \n",
    "    color: \"blue\", \n",
    "}"
   ]
  },
  {
   "cell_type": "code",
   "execution_count": 86,
   "id": "bb7bf877-f09a-4726-bda3-74917316df08",
   "metadata": {},
   "outputs": [
    {
     "data": {
      "text/plain": [
       "\u001b[33m25\u001b[39m"
      ]
     },
     "execution_count": 86,
     "metadata": {},
     "output_type": "execute_result"
    }
   ],
   "source": [
    "happyFace.radius "
   ]
  },
  {
   "cell_type": "markdown",
   "id": "61878190-a5cf-42c3-9401-8a86fc9434d1",
   "metadata": {},
   "source": [
    "<h3> Array Types </h3>\n",
    "\n",
    "<p> \n",
    "Arrays can be typped using a type annotation followed by empty array brackets, like number[] for an array \n",
    "of numbers. <br> \n",
    "\n",
    "Note: These arrays only allow data of that one type inside them. More on that later ! \n",
    "</p>"
   ]
  },
  {
   "cell_type": "code",
   "execution_count": null,
   "id": "b901d467-3091-4dd8-88d0-38b727c06bb9",
   "metadata": {},
   "outputs": [],
   "source": []
  },
  {
   "cell_type": "code",
   "execution_count": null,
   "id": "14252fd8-8f1d-44b9-8873-4909aefbd0c3",
   "metadata": {},
   "outputs": [],
   "source": []
  },
  {
   "cell_type": "code",
   "execution_count": null,
   "id": "60507bb0-8223-4f38-9a2b-c1e8b8ef02fd",
   "metadata": {},
   "outputs": [],
   "source": []
  },
  {
   "cell_type": "code",
   "execution_count": null,
   "id": "1d0229ce-b86d-4651-9b2a-be5bdef75b1c",
   "metadata": {},
   "outputs": [],
   "source": []
  },
  {
   "cell_type": "code",
   "execution_count": null,
   "id": "4bae7786-49e3-42c5-a52a-e15262ef10ed",
   "metadata": {},
   "outputs": [],
   "source": []
  },
  {
   "cell_type": "code",
   "execution_count": null,
   "id": "e12420e1-115b-4f8b-b963-b7f29bd28d4b",
   "metadata": {},
   "outputs": [],
   "source": []
  }
 ],
 "metadata": {
  "kernelspec": {
   "display_name": "Deno",
   "language": "typescript",
   "name": "deno"
  },
  "language_info": {
   "codemirror_mode": "typescript",
   "file_extension": ".ts",
   "mimetype": "text/x.typescript",
   "name": "typescript",
   "nbconvert_exporter": "script",
   "pygments_lexer": "typescript",
   "version": "5.9.2"
  }
 },
 "nbformat": 4,
 "nbformat_minor": 5
}
